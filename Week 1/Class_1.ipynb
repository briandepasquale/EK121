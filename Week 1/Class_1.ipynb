{
  "cells": [
    {
      "cell_type": "markdown",
      "metadata": {},
      "source": [
        "<a href=\"https://colab.research.google.com/github/briandepasquale/EK121/blob/main/Class_1.ipynb\" target=\"_parent\"><img src=\"https://colab.research.google.com/assets/colab-badge.svg\" alt=\"Open In Colab\"/></a>"
      ]
    },
    {
      "cell_type": "markdown",
      "metadata": {},
      "source": [
        "Class 1: Group Practice Problems...Intro to Python!\n",
        "This information is in a cell. There are basically two types of cells that we will use: Markdown, which is for text like this, and Code, which is for Python code. Locate the dropdown menu above.\n",
        "Create your own text cell below this one, and put your name in it. Use Insert to do this, and change the type of the cell from the default of Code to Markdown. On a second line in the same text cell, put your partners' names."
      ]
    },
    {
      "cell_type": "markdown",
      "metadata": {},
      "source": [
        "Name: John Cleese\n",
        "Partners: "
      ]
    },
    {
      "cell_type": "markdown",
      "metadata": {},
      "source": [
        "Good! In the problems below, whenever you are asked to explain something, insert a new text cell with your explanation.  Now let's try some code.  Click in the code cell below, and then click the Run button above to execute the code. Notice that there is now a number in the square brackets after In, and the ouput has been shown."
      ]
    },
    {
      "cell_type": "code",
      "execution_count": 2,
      "metadata": {},
      "outputs": [
        {
          "data": {
            "text/plain": [
              "13"
            ]
          },
          "execution_count": 2,
          "metadata": {},
          "output_type": "execute_result"
        }
      ],
      "source": [
        "4 + 9"
      ]
    },
    {
      "cell_type": "markdown",
      "metadata": {},
      "source": [
        "Enter and execute your own numerical expression here:"
      ]
    },
    {
      "cell_type": "code",
      "execution_count": 3,
      "metadata": {},
      "outputs": [
        {
          "data": {
            "text/plain": [
              "40"
            ]
          },
          "execution_count": 3,
          "metadata": {},
          "output_type": "execute_result"
        }
      ],
      "source": [
        "52 - 3 * 4"
      ]
    },
    {
      "cell_type": "markdown",
      "metadata": {},
      "source": [
        "Indentation and spacing is very important in Python. Try executing the code below."
      ]
    },
    {
      "cell_type": "code",
      "execution_count": 4,
      "metadata": {},
      "outputs": [
        {
          "data": {
            "text/plain": [
              "4"
            ]
          },
          "execution_count": 4,
          "metadata": {},
          "output_type": "execute_result"
        }
      ],
      "source": [
        "   1 + 3"
      ]
    },
    {
      "cell_type": "markdown",
      "metadata": {},
      "source": [
        "Even though the code was indented, that was OK.  Now try executing the code in the next cell. Notice that there are two expressions; the first is not indented but the second one is."
      ]
    },
    {
      "cell_type": "code",
      "execution_count": 5,
      "metadata": {},
      "outputs": [
        {
          "ename": "IndentationError",
          "evalue": "unexpected indent (3878406066.py, line 2)",
          "output_type": "error",
          "traceback": [
            "\u001b[0;36m  Cell \u001b[0;32mIn[5], line 2\u001b[0;36m\u001b[0m\n\u001b[0;31m    4 - 2\u001b[0m\n\u001b[0m    ^\u001b[0m\n\u001b[0;31mIndentationError\u001b[0m\u001b[0;31m:\u001b[0m unexpected indent\n"
          ]
        }
      ],
      "source": [
        "   1 + 3\n",
        "       4 - 2"
      ]
    },
    {
      "cell_type": "markdown",
      "metadata": {},
      "source": [
        "When there is more than one line of code in a cell, they both must be indented to the same level (or not). Go back to the previous code cell and experiment with this. Fix the cell so that it can be executed. Notice also that you only see the result from the second expression."
      ]
    },
    {
      "cell_type": "markdown",
      "metadata": {},
      "source": [
        "Enter an expression over at least two lines, using either parentheses or the backslash. Execute it and make sure it works."
      ]
    },
    {
      "cell_type": "code",
      "execution_count": 6,
      "metadata": {},
      "outputs": [
        {
          "data": {
            "text/plain": [
              "6"
            ]
          },
          "execution_count": 6,
          "metadata": {},
          "output_type": "execute_result"
        }
      ],
      "source": [
        "3 + 5 - \\\n",
        "2"
      ]
    },
    {
      "cell_type": "code",
      "execution_count": 7,
      "metadata": {},
      "outputs": [
        {
          "data": {
            "text/plain": [
              "6"
            ]
          },
          "execution_count": 7,
          "metadata": {},
          "output_type": "execute_result"
        }
      ],
      "source": [
        "(3 + 5 -\n",
        "2)"
      ]
    },
    {
      "cell_type": "markdown",
      "metadata": {},
      "source": [
        "Create a variable named 'favnum' and assign your favorite number to it.  "
      ]
    },
    {
      "cell_type": "code",
      "execution_count": 8,
      "metadata": {},
      "outputs": [
        {
          "data": {
            "text/plain": [
              "33"
            ]
          },
          "execution_count": 8,
          "metadata": {},
          "output_type": "execute_result"
        }
      ],
      "source": [
        "favnum = 33\n",
        "favnum"
      ]
    },
    {
      "cell_type": "markdown",
      "metadata": {},
      "source": [
        "Did your assignment statement work? If you did not already, go back to the code cell and after the assignment statement, just type the name of the variable so that when you execute the cell, the value of the variable will be shown."
      ]
    },
    {
      "cell_type": "markdown",
      "metadata": {},
      "source": [
        "Create an integer variable by assigning a number to it, and then in a second assignment statement increment the variable by 1. Display the result."
      ]
    },
    {
      "cell_type": "code",
      "execution_count": null,
      "metadata": {},
      "outputs": [],
      "source": [
        "myvar = 5\n",
        "myvar = myvar + 1\n",
        "myvar"
      ]
    },
    {
      "cell_type": "markdown",
      "metadata": {},
      "source": [
        "Write a simultaneous assignment statement that will simultaneously assign 0 to a variable named 'mysum' and 1 to a variable named 'myproduct'. Display the results to make sure it worked."
      ]
    },
    {
      "cell_type": "code",
      "execution_count": null,
      "metadata": {},
      "outputs": [],
      "source": [
        "mysum, myproduct = 0, 1\n",
        "print(mysum, myproduct)"
      ]
    },
    {
      "cell_type": "markdown",
      "metadata": {},
      "source": [
        "OK, we're going to stop telling you to display the results to make sure they worked. Just always do that!! Create a \"constant\" named 'DAYS_IN_WEEK' that stores the number of days in a week."
      ]
    },
    {
      "cell_type": "code",
      "execution_count": null,
      "metadata": {},
      "outputs": [],
      "source": [
        "DAYS_IN_WEEK = 7\n",
        "DAYS_IN_WEEK"
      ]
    },
    {
      "cell_type": "markdown",
      "metadata": {},
      "source": [
        "Delete your 'favnum' variable. Then, type the name favnum and examine the error message that you (should) get."
      ]
    },
    {
      "cell_type": "code",
      "execution_count": null,
      "metadata": {},
      "outputs": [],
      "source": [
        "del favnum\n",
        "favnum"
      ]
    },
    {
      "cell_type": "markdown",
      "metadata": {},
      "source": [
        "Play around with the round function and make sure that you understand how it works. Testing code is very important. Try real numbers such as 4.2, 4.5, and 4.8. Do they round up? down? Try integers. Try negative and positive numbers."
      ]
    },
    {
      "cell_type": "code",
      "execution_count": null,
      "metadata": {},
      "outputs": [],
      "source": [
        "round(-5.2)"
      ]
    },
    {
      "cell_type": "markdown",
      "metadata": {},
      "source": [
        "So, without entering this code, what would round(-5.7) return? Did you test thoroughly enough to be confident of your answer?"
      ]
    },
    {
      "cell_type": "markdown",
      "metadata": {},
      "source": [
        "Create two number variables and print their values using one print statement."
      ]
    },
    {
      "cell_type": "code",
      "execution_count": null,
      "metadata": {},
      "outputs": [],
      "source": []
    },
    {
      "cell_type": "markdown",
      "metadata": {},
      "source": [
        "Create an integer variable and a float variable and print their types."
      ]
    },
    {
      "cell_type": "code",
      "execution_count": null,
      "metadata": {},
      "outputs": [],
      "source": []
    },
    {
      "cell_type": "markdown",
      "metadata": {},
      "source": [
        "Create an integer variable 'num', and print the values of num raised to the third power, and num raised to the fifth power."
      ]
    },
    {
      "cell_type": "code",
      "execution_count": null,
      "metadata": {},
      "outputs": [],
      "source": []
    },
    {
      "cell_type": "markdown",
      "metadata": {},
      "source": [
        "What would be the type of the expression 5 - 4.0?"
      ]
    },
    {
      "cell_type": "code",
      "execution_count": null,
      "metadata": {},
      "outputs": [],
      "source": []
    },
    {
      "cell_type": "markdown",
      "metadata": {},
      "source": [
        "Let's examine the division operators. First, test the float division operator /.  Try it using float operands, int operands, and one float and one int operand. Try it with numbers that divide evenly and numbers that do not divide evenly. Again, testing thoroughy is very important!"
      ]
    },
    {
      "cell_type": "code",
      "execution_count": null,
      "metadata": {},
      "outputs": [],
      "source": []
    },
    {
      "cell_type": "markdown",
      "metadata": {},
      "source": [
        "Now thoroughly test the integer division operator //."
      ]
    },
    {
      "cell_type": "code",
      "execution_count": null,
      "metadata": {},
      "outputs": [],
      "source": []
    },
    {
      "cell_type": "markdown",
      "metadata": {},
      "source": [
        "Finally, thoroughly test the modulus or remainder division operator %."
      ]
    },
    {
      "cell_type": "code",
      "execution_count": null,
      "metadata": {},
      "outputs": [],
      "source": []
    },
    {
      "cell_type": "markdown",
      "metadata": {},
      "source": [
        "Write an expression using scientific notation that would result in the number 30000."
      ]
    },
    {
      "cell_type": "code",
      "execution_count": null,
      "metadata": {},
      "outputs": [],
      "source": []
    },
    {
      "cell_type": "markdown",
      "metadata": {},
      "source": [
        "Create a variable to store the cost of a bagel (let's say $2.25). Create a constant to store the tax rate (let's say 3 percent). What would the total cost of the bagel be? Round this to two decimal places since it's money."
      ]
    },
    {
      "cell_type": "code",
      "execution_count": null,
      "metadata": {},
      "outputs": [],
      "source": []
    },
    {
      "cell_type": "markdown",
      "metadata": {},
      "source": [
        "Using only the integers 2 and 3, try to come up with as many expressions as you can that will result in the integer 9.  Be creative!"
      ]
    },
    {
      "cell_type": "code",
      "execution_count": null,
      "metadata": {},
      "outputs": [],
      "source": []
    },
    {
      "cell_type": "markdown",
      "metadata": {},
      "source": [
        "If you've gotten this far, great job!  Your next task is to write a quiz on today's material. Come up with the questions, and test the results. Once you and your partners have written your quizzes, quiz each other with them. You will always spend the full time in class. If you finish our problems before the class period is over, your next task will always be to try to come up with quiz or exam problems. You coud also spend your time helping others at your table. "
      ]
    }
  ],
  "metadata": {
    "colab": {
      "authorship_tag": "ABX9TyOlyJARbt3b91xH11jgccoH",
      "collapsed_sections": [],
      "include_colab_link": true,
      "name": "Week1Tutorial1.ipynb",
      "provenance": [],
      "toc_visible": true
    },
    "kernelspec": {
      "display_name": "Python 3",
      "name": "python3"
    },
    "language_info": {
      "codemirror_mode": {
        "name": "ipython",
        "version": 3
      },
      "file_extension": ".py",
      "mimetype": "text/x-python",
      "name": "python",
      "nbconvert_exporter": "python",
      "pygments_lexer": "ipython3",
      "version": "3.11.9"
    }
  },
  "nbformat": 4,
  "nbformat_minor": 0
}
